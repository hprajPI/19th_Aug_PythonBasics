{
 "cells": [
  {
   "cell_type": "code",
   "execution_count": null,
   "id": "6c60538e-e5b9-408d-917a-59d507ecae42",
   "metadata": {},
   "outputs": [],
   "source": [
    "#Topic1:Python Basics Variable"
   ]
  },
  {
   "cell_type": "code",
   "execution_count": null,
   "id": "cb51937c-04f7-454a-8701-a9e92889510f",
   "metadata": {},
   "outputs": [],
   "source": [
    "#1. Declare two variables, `x` and `y`, and assign them integer values.\n",
    "#Swap the values of these variables without using any temporary variable."
   ]
  },
  {
   "cell_type": "code",
   "execution_count": 55,
   "id": "01dfa7e8-eb0c-423a-80ad-e52d42a61ad4",
   "metadata": {},
   "outputs": [],
   "source": [
    "x=3"
   ]
  },
  {
   "cell_type": "code",
   "execution_count": 56,
   "id": "bbd23e35-0d52-4e0d-bee4-409f4537d822",
   "metadata": {},
   "outputs": [],
   "source": [
    "y=7"
   ]
  },
  {
   "cell_type": "code",
   "execution_count": 58,
   "id": "054ac34a-b0bf-4bcd-a3dd-f29b47a5245b",
   "metadata": {},
   "outputs": [],
   "source": [
    "x=x+y "
   ]
  },
  {
   "cell_type": "code",
   "execution_count": 59,
   "id": "f6b660bc-ea29-4102-986b-d7fba78fa071",
   "metadata": {},
   "outputs": [],
   "source": [
    "y=x-y"
   ]
  },
  {
   "cell_type": "code",
   "execution_count": 60,
   "id": "df86c86d-0fd0-486c-a504-d1e51c645ab1",
   "metadata": {},
   "outputs": [],
   "source": [
    "x=x-y"
   ]
  },
  {
   "cell_type": "code",
   "execution_count": 61,
   "id": "5c5d022c-4ffa-4178-ba61-4c0dee1c2bf1",
   "metadata": {},
   "outputs": [
    {
     "name": "stdout",
     "output_type": "stream",
     "text": [
      "After swapping\n",
      "x= 7\n",
      "y= 3\n"
     ]
    }
   ],
   "source": [
    "print(\"After swapping\")\n",
    "print(\"x=\", x)\n",
    "print(\"y=\", y)"
   ]
  },
  {
   "cell_type": "code",
   "execution_count": null,
   "id": "7779ea35-d8c3-4052-9d3e-df13ebc5a767",
   "metadata": {},
   "outputs": [],
   "source": [
    "#2. Create a program that calculates the area of a rectangle. Take the length and width as inputs from the user and store\n",
    "#them in variables. Calculate and display the area."
   ]
  },
  {
   "cell_type": "code",
   "execution_count": 62,
   "id": "90b38567-dd85-4456-bf80-4b744c2967d5",
   "metadata": {},
   "outputs": [
    {
     "name": "stdin",
     "output_type": "stream",
     "text": [
      " 12\n"
     ]
    }
   ],
   "source": [
    "l=int(input())"
   ]
  },
  {
   "cell_type": "code",
   "execution_count": 63,
   "id": "5b7084cc-3829-4637-a4db-72bd3a758e6d",
   "metadata": {},
   "outputs": [
    {
     "name": "stdin",
     "output_type": "stream",
     "text": [
      " 6\n"
     ]
    }
   ],
   "source": [
    "b=int(input())"
   ]
  },
  {
   "cell_type": "code",
   "execution_count": 64,
   "id": "e02ddfc6-16f1-4d3b-822a-fc813e1a0d96",
   "metadata": {},
   "outputs": [],
   "source": [
    "area= l*b"
   ]
  },
  {
   "cell_type": "code",
   "execution_count": 65,
   "id": "35dae816-0e06-4031-9649-7778e3da7c84",
   "metadata": {},
   "outputs": [
    {
     "name": "stdout",
     "output_type": "stream",
     "text": [
      "Area of the rectangle= 72\n"
     ]
    }
   ],
   "source": [
    "print(\"Area of the rectangle=\", area)"
   ]
  },
  {
   "cell_type": "code",
   "execution_count": null,
   "id": "7db685f6-e81c-4f61-878b-734960b80f73",
   "metadata": {},
   "outputs": [],
   "source": [
    "#3. Write a Python program that converts temperature from Celsius to Fahrenheit. Take the temperature in Celsius as input, store it in a\n",
    "#variable, convert it to Fahrenheit, and display the result."
   ]
  },
  {
   "cell_type": "code",
   "execution_count": 66,
   "id": "550ea1e7-dd03-48aa-99c0-79056200e202",
   "metadata": {},
   "outputs": [
    {
     "name": "stdin",
     "output_type": "stream",
     "text": [
      " 28\n"
     ]
    }
   ],
   "source": [
    "Temp_celsius= int(input())"
   ]
  },
  {
   "cell_type": "code",
   "execution_count": 67,
   "id": "7a14b044-416f-499a-9c80-6d4b117cca56",
   "metadata": {},
   "outputs": [],
   "source": [
    "Temp_fahrenheit = ((Temp_celsius *9)/5) + 32"
   ]
  },
  {
   "cell_type": "code",
   "execution_count": 68,
   "id": "290fbdb6-eb35-46ab-a969-8c9f7883d968",
   "metadata": {},
   "outputs": [
    {
     "name": "stdout",
     "output_type": "stream",
     "text": [
      "The Temperature in Fahrenheit= 82.4\n"
     ]
    }
   ],
   "source": [
    "print(\"The Temperature in Fahrenheit=\", Temp_fahrenheit)"
   ]
  },
  {
   "cell_type": "code",
   "execution_count": null,
   "id": "02fabd46-d8ba-41ac-8938-a06ff73a7ebc",
   "metadata": {},
   "outputs": [],
   "source": [
    "#Topic2-String Based Questions"
   ]
  },
  {
   "cell_type": "code",
   "execution_count": null,
   "id": "3f6e2481-8bf8-4b95-90f2-139b726bd9d1",
   "metadata": {},
   "outputs": [],
   "source": [
    "#1. Write a Python program that takes a string as input and prints the length of the string."
   ]
  },
  {
   "cell_type": "code",
   "execution_count": 69,
   "id": "e90b9179-e1ee-4c95-b378-d9729804b644",
   "metadata": {},
   "outputs": [
    {
     "name": "stdin",
     "output_type": "stream",
     "text": [
      " Beauty is in the heart\n"
     ]
    }
   ],
   "source": [
    "s1= str(input())"
   ]
  },
  {
   "cell_type": "code",
   "execution_count": 70,
   "id": "212033b9-063c-437f-af5d-365c7496f3e9",
   "metadata": {},
   "outputs": [
    {
     "name": "stdout",
     "output_type": "stream",
     "text": [
      "Length of the string =  22\n"
     ]
    }
   ],
   "source": [
    "print(\"Length of the string = \", len(s1))"
   ]
  },
  {
   "cell_type": "code",
   "execution_count": null,
   "id": "a63f5e66-bd6b-43e2-9cc1-671500fa351c",
   "metadata": {},
   "outputs": [],
   "source": [
    "#2. Create a program that takes a sentence from the user and counts the number of vowels (a, e, i, o, u) in the string."
   ]
  },
  {
   "cell_type": "code",
   "execution_count": 71,
   "id": "ed4addc3-2c1d-49cd-abb9-d9e1901780ce",
   "metadata": {},
   "outputs": [
    {
     "name": "stdin",
     "output_type": "stream",
     "text": [
      " Beauty is in the heart\n"
     ]
    }
   ],
   "source": [
    "vowel= str(input())"
   ]
  },
  {
   "cell_type": "code",
   "execution_count": 72,
   "id": "6aaebcee-5ca9-4181-86bd-83731b2b8df3",
   "metadata": {},
   "outputs": [
    {
     "data": {
      "text/plain": [
       "8"
      ]
     },
     "execution_count": 72,
     "metadata": {},
     "output_type": "execute_result"
    }
   ],
   "source": [
    "vowel.count('a')+ vowel.count('e') + vowel.count('i') + vowel.count('o') + vowel.count('u')"
   ]
  },
  {
   "cell_type": "code",
   "execution_count": null,
   "id": "62dc2589-d5a0-42ac-a185-f05438f0c806",
   "metadata": {},
   "outputs": [],
   "source": [
    "#3. Given a string, reverse the order of characters using string slicing and print the reversed string."
   ]
  },
  {
   "cell_type": "code",
   "execution_count": 45,
   "id": "fb13556d-86a9-40b3-998b-95d5f16ad169",
   "metadata": {},
   "outputs": [],
   "source": [
    "s2= \"My name is Anthony Gonsalves\""
   ]
  },
  {
   "cell_type": "code",
   "execution_count": 46,
   "id": "81a4c830-9020-4136-9ca8-623034bcc3ca",
   "metadata": {},
   "outputs": [
    {
     "data": {
      "text/plain": [
       "'sevlasnoG ynohtnA si eman yM'"
      ]
     },
     "execution_count": 46,
     "metadata": {},
     "output_type": "execute_result"
    }
   ],
   "source": [
    "s2[::-1]"
   ]
  },
  {
   "cell_type": "code",
   "execution_count": 47,
   "id": "8e9e10e9-b0d7-4e37-96aa-ef8ef9fea9af",
   "metadata": {},
   "outputs": [],
   "source": [
    "#4. Write a program that takes a string as input and checks if it is a palindrome (reads the same forwards and backwards)"
   ]
  },
  {
   "cell_type": "code",
   "execution_count": 73,
   "id": "87c32fbb-4fb3-42d6-a924-de743624ad5a",
   "metadata": {},
   "outputs": [
    {
     "name": "stdin",
     "output_type": "stream",
     "text": [
      " dog\n"
     ]
    }
   ],
   "source": [
    "palindrome= str(input())"
   ]
  },
  {
   "cell_type": "code",
   "execution_count": 74,
   "id": "b5e0d897-7435-45a8-af8d-e8e36d294bad",
   "metadata": {},
   "outputs": [
    {
     "data": {
      "text/plain": [
       "False"
      ]
     },
     "execution_count": 74,
     "metadata": {},
     "output_type": "execute_result"
    }
   ],
   "source": [
    "palindrome ==palindrome[::-1]"
   ]
  },
  {
   "cell_type": "code",
   "execution_count": null,
   "id": "52234ed1-f3d7-497c-b66a-b21887bd5888",
   "metadata": {},
   "outputs": [],
   "source": [
    "#5. Create a program that takes a string as input and removes all the spaces from it. \n",
    "#Print the modified string without spaces."
   ]
  },
  {
   "cell_type": "code",
   "execution_count": 53,
   "id": "4ba94126-253c-43df-a066-aefd850ad705",
   "metadata": {},
   "outputs": [
    {
     "name": "stdin",
     "output_type": "stream",
     "text": [
      " This is a cute dog\n"
     ]
    }
   ],
   "source": [
    "remove_spaces = str(input())"
   ]
  },
  {
   "cell_type": "code",
   "execution_count": 54,
   "id": "b17f9941-0e14-4822-81c9-9e259ccc8b06",
   "metadata": {},
   "outputs": [
    {
     "data": {
      "text/plain": [
       "'Thisisacutedog'"
      ]
     },
     "execution_count": 54,
     "metadata": {},
     "output_type": "execute_result"
    }
   ],
   "source": [
    "remove_spaces.replace(\" \",\"\")"
   ]
  },
  {
   "cell_type": "code",
   "execution_count": null,
   "id": "12059fbe-d0eb-455e-adc1-92480db599be",
   "metadata": {},
   "outputs": [],
   "source": []
  }
 ],
 "metadata": {
  "kernelspec": {
   "display_name": "Python 3 (ipykernel)",
   "language": "python",
   "name": "python3"
  },
  "language_info": {
   "codemirror_mode": {
    "name": "ipython",
    "version": 3
   },
   "file_extension": ".py",
   "mimetype": "text/x-python",
   "name": "python",
   "nbconvert_exporter": "python",
   "pygments_lexer": "ipython3",
   "version": "3.10.8"
  }
 },
 "nbformat": 4,
 "nbformat_minor": 5
}
